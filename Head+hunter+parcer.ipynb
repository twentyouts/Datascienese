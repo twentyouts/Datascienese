{
 "cells": [
  {
   "cell_type": "code",
   "execution_count": 99,
   "metadata": {
    "collapsed": true
   },
   "outputs": [],
   "source": [
    "import requests\n",
    "from tqdm import tqdm_notebook\n",
    "import pickle\n",
    "import pandas as pd\n",
    "from multiprocessing import Queue\n",
    "from threading import Thread\n",
    "import urllib\n",
    "from time import sleep"
   ]
  },
  {
   "cell_type": "code",
   "execution_count": 100,
   "metadata": {
    "collapsed": true
   },
   "outputs": [],
   "source": [
    "vac_url = 'https://api.hh.ru/vacancies/{}'\n",
    "\n",
    "# Давайте выкачаем немного вакансий\n",
    "# Они полностью открыты через API (если их не закрыл работодатель)\n",
    "\n",
    "vac = []\n",
    "test = []\n",
    "number = 23244255"
   ]
  },
  {
   "cell_type": "markdown",
   "metadata": {},
   "source": [
    "Здесь парсинг проходит по одному линку в цепочке. Вместо 1000 можно указать желаемое кол-во вакансий в датасете"
   ]
  },
  {
   "cell_type": "code",
   "execution_count": 78,
   "metadata": {},
   "outputs": [
    {
     "data": {
      "application/vnd.jupyter.widget-view+json": {
       "model_id": "258151de35a34742a8a3cd7f85d565e5",
       "version_major": 2,
       "version_minor": 0
      },
      "text/plain": [
       "A Jupyter Widget"
      ]
     },
     "metadata": {},
     "output_type": "display_data"
    },
    {
     "name": "stdout",
     "output_type": "stream",
     "text": [
      "\n",
      "--- 134.0461757183075 seconds ---\n"
     ]
    }
   ],
   "source": [
    "start_time = time.time()\n",
    "for i in tqdm_notebook(range(number,number-1000, -1)):\n",
    "    test.append(requests.get(vac_url.format(i)).json())\n",
    "print(\"--- %s seconds ---\" % (time.time() - start_time))"
   ]
  },
  {
   "cell_type": "code",
   "execution_count": 129,
   "metadata": {
    "collapsed": true
   },
   "outputs": [],
   "source": [
    "def worker(url):\n",
    "    vac.append(requests.get(url).json())\n",
    "    return "
   ]
  },
  {
   "cell_type": "code",
   "execution_count": 122,
   "metadata": {
    "collapsed": true
   },
   "outputs": [],
   "source": [
    "threadlist = []"
   ]
  },
  {
   "cell_type": "code",
   "execution_count": 191,
   "metadata": {},
   "outputs": [
    {
     "data": {
      "application/vnd.jupyter.widget-view+json": {
       "model_id": "721bec89d653462288d40c2c2f3587f7",
       "version_major": 2,
       "version_minor": 0
      },
      "text/plain": [
       "A Jupyter Widget"
      ]
     },
     "metadata": {},
     "output_type": "display_data"
    },
    {
     "name": "stdout",
     "output_type": "stream",
     "text": [
      "\n"
     ]
    }
   ],
   "source": [
    "q = Queue()\n",
    "for i in tqdm_notebook(range(number,number-1000,-1)):\n",
    "    q.put((vac_url.format(i)))"
   ]
  },
  {
   "cell_type": "code",
   "execution_count": 192,
   "metadata": {},
   "outputs": [
    {
     "name": "stdout",
     "output_type": "stream",
     "text": [
      "--- 35.34149694442749 seconds ---\n"
     ]
    }
   ],
   "source": [
    "import time\n",
    "threads = []\n",
    "start_time = time.time()\n",
    "for i in range(10):\n",
    "    while not q.empty():\n",
    "        u = q.get()\n",
    "        sleep(0.027)\n",
    "        t = Thread( target=worker, args = (u,))\n",
    "        threads.append(t)\n",
    "        t.start()\n",
    "    t.join()\n",
    "print(\"--- %s seconds ---\" % (time.time() - start_time))"
   ]
  },
  {
   "cell_type": "code",
   "execution_count": 200,
   "metadata": {
    "collapsed": true
   },
   "outputs": [],
   "source": [
    "df = pd.DataFrame(vac)\n",
    "def salary_currency(x):\n",
    "    return x['currency'] if type(x)==dict else None\n",
    "\n",
    "def salary_from(x):\n",
    "    return x['from'] if type(x)==dict else None\n",
    "\n",
    "def salary_gross(x):\n",
    "    return x['gross'] if type(x)==dict else None\n",
    "\n",
    "def salary_to(x):\n",
    "    return x['to'] if type(x)==dict else None"
   ]
  },
  {
   "cell_type": "code",
   "execution_count": 201,
   "metadata": {
    "collapsed": true
   },
   "outputs": [],
   "source": [
    "df['salary_currency'] = df['salary'].map(salary_currency)\n",
    "df['salary_from'] = df['salary'].map(salary_from)\n",
    "df['salary_gross'] = df['salary'].map(salary_gross)\n",
    "df['salary_to'] = df['salary'].map(salary_to)"
   ]
  },
  {
   "cell_type": "code",
   "execution_count": 203,
   "metadata": {},
   "outputs": [],
   "source": [
    "def profarea_id(x):\n",
    "    return x[0]['profarea_id'] if type(x)==list else None\n",
    "\n",
    "df['profarea_id'] = df['specializations'].map(profarea_id)"
   ]
  },
  {
   "cell_type": "code",
   "execution_count": 204,
   "metadata": {
    "collapsed": true
   },
   "outputs": [],
   "source": [
    "def area_id(x):\n",
    "    return x['id'] if type(x)==dict else None\n",
    "\n",
    "df['area_id'] = df['area'].map(area_id)\n",
    "\n",
    "del df['area']"
   ]
  },
  {
   "cell_type": "code",
   "execution_count": 205,
   "metadata": {
    "collapsed": true
   },
   "outputs": [],
   "source": [
    "def type_id(x):\n",
    "    return x['id'] if type(x)==dict else None\n",
    "\n",
    "df['type_id'] = df['type'].map(type_id)\n",
    "\n",
    "del df['type']"
   ]
  },
  {
   "cell_type": "code",
   "execution_count": 206,
   "metadata": {
    "collapsed": true
   },
   "outputs": [],
   "source": [
    "def billing_type_id(x):\n",
    "    return x['id'] if type(x)==dict else None\n",
    "\n",
    "df['billing_type_id'] = df['billing_type'].map(billing_type_id)\n",
    "\n",
    "del df['billing_type']"
   ]
  },
  {
   "cell_type": "code",
   "execution_count": 207,
   "metadata": {
    "collapsed": true
   },
   "outputs": [],
   "source": [
    "def employment_id(x):\n",
    "    return x['id'] if type(x)==dict else None\n",
    "\n",
    "df['employment_id'] = df['employment'].map(employment_id)\n",
    "del df['employment']"
   ]
  },
  {
   "cell_type": "code",
   "execution_count": 208,
   "metadata": {
    "collapsed": true
   },
   "outputs": [],
   "source": [
    "def schedule_id(x):\n",
    "    return x['id'] if type(x)==dict else None\n",
    "\n",
    "df['schedule_id'] = df['schedule'].map(schedule_id)\n",
    "del df['schedule']"
   ]
  },
  {
   "cell_type": "code",
   "execution_count": 209,
   "metadata": {
    "collapsed": true
   },
   "outputs": [],
   "source": [
    "def experience_id(x):\n",
    "    return x['id'] if type(x)==dict else None\n",
    "\n",
    "df['experience_id'] = df['experience'].map(schedule_id)\n",
    "del df['experience']"
   ]
  },
  {
   "cell_type": "code",
   "execution_count": 210,
   "metadata": {
    "collapsed": true
   },
   "outputs": [],
   "source": [
    "df['all_text'] = [\n",
    "    (x if type(x)==str else ' ') + ' ' +\n",
    "    (y if type(y)==str else ' ') \n",
    "    for x, y in zip(\n",
    "    df['name'],\n",
    "    df['description'])]\n",
    "\n",
    "#del df['name']\n",
    "#del df['description']"
   ]
  },
  {
   "cell_type": "code",
   "execution_count": 211,
   "metadata": {
    "collapsed": true
   },
   "outputs": [],
   "source": [
    "from bs4 import BeautifulSoup"
   ]
  },
  {
   "cell_type": "code",
   "execution_count": 212,
   "metadata": {},
   "outputs": [
    {
     "data": {
      "text/plain": [
       "0    Карщик-грузчик <strong>Обязанности:</strong> <...\n",
       "1                                            Not Found\n",
       "2    Менеджер по персоналу в офис <strong>Обязаннос...\n",
       "3    Механик энергоблока <p>Крупнейший международны...\n",
       "4    Менеджер по продажам автомобилей <p><strong>Се...\n",
       "Name: all_text, dtype: object"
      ]
     },
     "execution_count": 212,
     "metadata": {},
     "output_type": "execute_result"
    }
   ],
   "source": [
    "df['all_text'].head()"
   ]
  },
  {
   "cell_type": "code",
   "execution_count": 213,
   "metadata": {
    "collapsed": true
   },
   "outputs": [],
   "source": [
    "df['all_text'] = df['all_text'].map(\n",
    "    lambda x: BeautifulSoup(x, \"lxml\").text\n",
    ")"
   ]
  },
  {
   "cell_type": "code",
   "execution_count": 231,
   "metadata": {
    "collapsed": true
   },
   "outputs": [],
   "source": [
    "del df['accept_handicapped']\n",
    "del df['accept_kids']\n",
    "del df['alternate_url']\n",
    "\n",
    "del df['apply_alternate_url']\n",
    "del df['archived']\n",
    "del df['address']\n",
    "del df['contacts']\n",
    "del df['employer']\n",
    "del df['driver_license_types']\n",
    "del df['id']\n",
    "del df['errors']\n",
    "del df['negotiations_url']\n",
    "del df['relations']\n",
    "del df['site']\n",
    "del df['key_skills']\n",
    "del df['test']\n",
    "del df['suitable_resumes_url']\n",
    "del df['name']\n",
    "del df['description']\n",
    "del df['branded_description']\n",
    "del df['department']\n",
    "del df['code']"
   ]
  },
  {
   "cell_type": "code",
   "execution_count": 232,
   "metadata": {},
   "outputs": [],
   "source": [
    "df.to_csv('headhunter.csv', sep=',' )"
   ]
  }
 ],
 "metadata": {
  "kernelspec": {
   "display_name": "Python 3",
   "language": "python",
   "name": "python3"
  },
  "language_info": {
   "codemirror_mode": {
    "name": "ipython",
    "version": 3
   },
   "file_extension": ".py",
   "mimetype": "text/x-python",
   "name": "python",
   "nbconvert_exporter": "python",
   "pygments_lexer": "ipython3",
   "version": "3.6.2"
  }
 },
 "nbformat": 4,
 "nbformat_minor": 2
}
