{
 "cells": [
  {
   "cell_type": "markdown",
   "metadata": {},
   "source": [
    "#### A diagnostic test has a 98% probability of giving a positive result when applied to a person suffering from Thripshaw's Disease, and 10% probability of giving a (false) positive when applied to a non-sufferer. It is estimated that 0.5 % of the population are sufferers. Suppose that the test is now administered to a person whose disease status is unknown. "
   ]
  },
  {
   "cell_type": "markdown",
   "metadata": {},
   "source": [
    " This is a type of problems where i can stuck for ages. Lest start from begining"
   ]
  },
  {
   "cell_type": "markdown",
   "metadata": {},
   "source": [
    "1. 98% positive chanse if some one ill\n",
    "2. 10% false positive is some one healthy\n",
    "3. 0.5% of population is sufferers"
   ]
  },
  {
   "cell_type": "markdown",
   "metadata": {},
   "source": [
    "Calculate the probability that the test will:\n",
    "1. Be positive\n",
    "\n",
    "2. Correctly diagnose a sufferer of Thripshaw's\n",
    "\n",
    "3. Correctly identify a non-sufferer of Thripshaw's\n",
    "\n",
    "4. Misclassify the person"
   ]
  },
  {
   "cell_type": "markdown",
   "metadata": {},
   "source": [
    "Alright. Lest get this one by one.\n",
    "\n",
    "- P(S) = 0,5% chanse that you are in sufferer group\n",
    "- P(S') = 99,5% chanse that you are in not sufferer group\n",
    "- P(i|S) = 98 %     P of S given i. Chanes of postitive test if you are ill\n",
    "- P(h|S) = 2%       P of S given h. Chanse of false negative if you are ill\n",
    "- P(i|S') = 10 %    P of S given i. Chanse of false positive if you are healthy\n",
    "- P(h|S') = 90%     P of S given h. Chanse of negative if you are healthy"
   ]
  },
  {
   "cell_type": "code",
   "execution_count": 41,
   "metadata": {
    "collapsed": false,
    "scrolled": true
   },
   "outputs": [
    {
     "name": "stdout",
     "output_type": "stream",
     "text": [
      "Be positive: P(S) * P(i|S) + P(S') * P(i|S') = 14.210526315789476%\n"
     ]
    }
   ],
   "source": [
    "print('Be positive: P(S) * P(i|S) + P(S\\') * P(i|S\\') = {}%'.format(((0.05*0.98)+(0.995*0.1))/((0.05*0.02)+(0.995*0.1)+(0.05*0.98)+(0.995*0.9))*100))"
   ]
  },
  {
   "cell_type": "markdown",
   "metadata": {},
   "source": [
    "3.Correctly diagnose a sufferer of Thripshaw\\'s. So we need to find out P of i of Given S"
   ]
  },
  {
   "cell_type": "code",
   "execution_count": 37,
   "metadata": {
    "collapsed": false,
    "scrolled": true
   },
   "outputs": [
    {
     "name": "stdout",
     "output_type": "stream",
     "text": [
      "Correctly diagnose a sufferer of Thripshaw's\n",
      "Probabilty of positive 54.900000000000006%\n",
      "0.98\n"
     ]
    }
   ],
   "source": [
    "print('Correctly diagnose a sufferer of Thripshaw\\'s')\n",
    "print('Probabilty of positive {}%'.format(((0.05*0.98)/(0.98*0.1)+(0.05*0.98))*100))\n",
    "print(98/(98+2))"
   ]
  },
  {
   "cell_type": "markdown",
   "metadata": {},
   "source": [
    "4.Correctly identify a non-sufferer of Thripshaw's = P(S') х P(h|S')/ P(S) х P(h|S) + P(S') х P(h|S')"
   ]
  },
  {
   "cell_type": "code",
   "execution_count": 34,
   "metadata": {
    "collapsed": false
   },
   "outputs": [
    {
     "name": "stdout",
     "output_type": "stream",
     "text": [
      "non-sufferer =  99.88845510317903 %\n"
     ]
    }
   ],
   "source": [
    "print('non-sufferer =  {} %'.format((0.995*0.9)/((0.995*0.9)+(0.05*0.02))*100))"
   ]
  },
  {
   "cell_type": "markdown",
   "metadata": {},
   "source": [
    "Misclassify the person: ????"
   ]
  },
  {
   "cell_type": "code",
   "execution_count": 33,
   "metadata": {
    "collapsed": false
   },
   "outputs": [
    {
     "name": "stdout",
     "output_type": "stream",
     "text": [
      "misclissify chanse 9.617224880382777 %\n"
     ]
    }
   ],
   "source": [
    "print('misclissify chanse {} %'.format(((0.05*0.02)+(0.995*0.1))/((0.05*0.02)+(0.995*0.1)+(0.05*0.98)+(0.995*0.9))*100))"
   ]
  }
 ],
 "metadata": {
  "kernelspec": {
   "display_name": "Python 3",
   "language": "python",
   "name": "python3"
  },
  "language_info": {
   "codemirror_mode": {
    "name": "ipython",
    "version": 3
   },
   "file_extension": ".py",
   "mimetype": "text/x-python",
   "name": "python",
   "nbconvert_exporter": "python",
   "pygments_lexer": "ipython3",
   "version": "3.6.0"
  }
 },
 "nbformat": 4,
 "nbformat_minor": 2
}
